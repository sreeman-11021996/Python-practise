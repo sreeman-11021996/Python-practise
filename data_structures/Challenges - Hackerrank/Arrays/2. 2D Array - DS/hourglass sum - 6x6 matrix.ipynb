{
 "cells": [
  {
   "cell_type": "code",
   "execution_count": 1,
   "id": "939ed82e",
   "metadata": {},
   "outputs": [],
   "source": [
    "import math\n",
    "import os\n",
    "import random\n",
    "import re\n",
    "import sys\n",
    "import numpy as np"
   ]
  },
  {
   "cell_type": "code",
   "execution_count": 2,
   "id": "1e83c0bb",
   "metadata": {},
   "outputs": [
    {
     "data": {
      "text/plain": [
       "'\\na b c\\n  d\\ne f g'"
      ]
     },
     "execution_count": 2,
     "metadata": {},
     "output_type": "execute_result"
    }
   ],
   "source": [
    "#Given a  2D Array, :\n",
    "\"\"\"\n",
    "1 1 1 0 0 0\n",
    "0 1 0 0 0 0\n",
    "1 1 1 0 0 0\n",
    "0 0 0 0 0 0\n",
    "0 0 0 0 0 0\n",
    "0 0 0 0 0 0\"\"\"\n",
    "# An hourglass in A is a subset of values with indices falling in this pattern in \n",
    "# arr's graphical representation:\n",
    "\"\"\"\n",
    "a b c\n",
    "  d\n",
    "e f g\"\"\"\n",
    "\n",
    "# There are 16 hourglasses in arr. An hourglass sum is the sum of an hourglass' values. \n",
    "# Calculate the hourglass sum for every hourglass in arr, then print the maximum hourglass sum. \n",
    "# The array will always be 6x6"
   ]
  },
  {
   "cell_type": "code",
   "execution_count": 3,
   "id": "204dc20b",
   "metadata": {},
   "outputs": [],
   "source": [
    "# Constraints\n",
    "# -> -9 <= arr[i][j] <= 9\n",
    "# -> 0 <= i,j <= 5"
   ]
  },
  {
   "cell_type": "code",
   "execution_count": 4,
   "id": "338ec799",
   "metadata": {},
   "outputs": [
    {
     "data": {
      "text/plain": [
       "[[1, 2, 3, 4, 5, 6],\n",
       " [7, 8, 9, 10, 11, 12],\n",
       " [13, 14, 15, 16, 17, 18],\n",
       " [19, 20, 21, 22, 23, 24],\n",
       " [25, 26, 27, 28, 29, 30],\n",
       " [31, 32, 33, 34, 35, 36]]"
      ]
     },
     "execution_count": 4,
     "metadata": {},
     "output_type": "execute_result"
    }
   ],
   "source": [
    "arr = np.arange(1,37).reshape(6,6).tolist()\n",
    "arr"
   ]
  },
  {
   "cell_type": "code",
   "execution_count": 5,
   "id": "7523c320",
   "metadata": {},
   "outputs": [
    {
     "data": {
      "text/plain": [
       "3"
      ]
     },
     "execution_count": 5,
     "metadata": {},
     "output_type": "execute_result"
    }
   ],
   "source": [
    "len(arr)-3"
   ]
  },
  {
   "cell_type": "code",
   "execution_count": 6,
   "id": "cc2b65fa",
   "metadata": {},
   "outputs": [],
   "source": [
    "def single_hour_glass_sum(arr,i,j):\n",
    "    HOUR_GLASS = 3\n",
    "    # initiate sum \n",
    "    sum_hour_glass = 0\n",
    "    # loop through hour glass\n",
    "    for l in range(HOUR_GLASS):\n",
    "        if l%2 == 1:\n",
    "            sum_hour_glass+=arr[l+i][l+j]\n",
    "            continue\n",
    "        for m in range(HOUR_GLASS):\n",
    "            sum_hour_glass+=arr[l+i][m+j]\n",
    "    return sum_hour_glass"
   ]
  },
  {
   "cell_type": "code",
   "execution_count": 14,
   "id": "f060c21f",
   "metadata": {},
   "outputs": [],
   "source": [
    "def hourglassSum(arr):\n",
    "    MARKER = 2\n",
    "    Max_sum_horglass = None\n",
    "    for i in range((len(arr)-MARKER)):\n",
    "        for j in range(len(arr[i])-MARKER):\n",
    "            sum_hour_glass = single_hour_glass_sum(arr,i,j)\n",
    "            if(Max_sum_horglass is None or Max_sum_horglass<sum_hour_glass):\n",
    "                Max_sum_horglass = sum_hour_glass\n",
    "            else: continue\n",
    "    return Max_sum_horglass"
   ]
  },
  {
   "cell_type": "code",
   "execution_count": 15,
   "id": "5ae4e52f",
   "metadata": {},
   "outputs": [
    {
     "name": "stdout",
     "output_type": "stream",
     "text": [
      "203\n"
     ]
    }
   ],
   "source": [
    "max = hourglassSum(arr)\n",
    "print(max)"
   ]
  },
  {
   "cell_type": "code",
   "execution_count": 16,
   "id": "51c6a4eb",
   "metadata": {},
   "outputs": [
    {
     "name": "stdout",
     "output_type": "stream",
     "text": [
      "1 1 1 0 0 0\n",
      "0 1 0 0 0 0\n",
      "1 1 1 0 0 0\n",
      "0 0 2 4 4 0\n",
      "0 0 0 2 0 0\n",
      "0 0 1 2 4 0\n"
     ]
    }
   ],
   "source": [
    "if __name__ == '__main__':\n",
    "    os.environ['OUTPUT_PATH'] = 'output.txt' \n",
    "    fptr = open(os.environ['OUTPUT_PATH'], 'w')\n",
    "\n",
    "    arr = []\n",
    "\n",
    "    for _ in range(6):\n",
    "        arr.append(list(map(int, input().rstrip().split())))\n",
    "\n",
    "    result = hourglassSum(arr)\n",
    "\n",
    "    fptr.write(str(result) + '\\n')\n",
    "\n",
    "    fptr.close()"
   ]
  },
  {
   "cell_type": "code",
   "execution_count": null,
   "id": "6b631165",
   "metadata": {},
   "outputs": [],
   "source": []
  }
 ],
 "metadata": {
  "kernelspec": {
   "display_name": "Python 3",
   "language": "python",
   "name": "python3"
  },
  "language_info": {
   "codemirror_mode": {
    "name": "ipython",
    "version": 3
   },
   "file_extension": ".py",
   "mimetype": "text/x-python",
   "name": "python",
   "nbconvert_exporter": "python",
   "pygments_lexer": "ipython3",
   "version": "3.8.8"
  }
 },
 "nbformat": 4,
 "nbformat_minor": 5
}
