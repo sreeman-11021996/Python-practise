{
 "cells": [
  {
   "cell_type": "markdown",
   "id": "6ecbd8bf",
   "metadata": {},
   "source": [
    "A left rotation operation on an array of size n shifts each of the array's elements 1 unit to the left. Given an integer,d, rotate the array that many steps left and return the result."
   ]
  },
  {
   "cell_type": "markdown",
   "id": "9d76e50d",
   "metadata": {},
   "source": [
    "Input Format\n",
    "\n",
    "The first line contains two space-separated integers that denote , the number of integers, and , the number of left rotations to perform.\n",
    "The second line contains  space-separated integers that describe arr[].\n",
    "\n",
    "Constraints:\n",
    "\n",
    "1 <= n <= 10^5                                        \n",
    "\n",
    "1 <= d <= n\n",
    "\n",
    "1 <= a[i] <= 10^6"
   ]
  },
  {
   "cell_type": "code",
   "execution_count": 21,
   "id": "d002add2",
   "metadata": {},
   "outputs": [],
   "source": [
    "import math\n",
    "import os\n",
    "import random\n",
    "import re\n",
    "import sys"
   ]
  },
  {
   "cell_type": "code",
   "execution_count": null,
   "id": "eee9916b",
   "metadata": {},
   "outputs": [],
   "source": []
  },
  {
   "cell_type": "code",
   "execution_count": 22,
   "id": "171f01ab",
   "metadata": {},
   "outputs": [],
   "source": [
    "# Complete the 'rotateLeft' function below.\n",
    "#\n",
    "# The function is expected to return an INTEGER_ARRAY.\n",
    "# The function accepts following parameters:\n",
    "#  1. INTEGER d\n",
    "#  2. INTEGER_ARRAY arr"
   ]
  },
  {
   "cell_type": "code",
   "execution_count": 37,
   "id": "d45e726c",
   "metadata": {},
   "outputs": [],
   "source": [
    "\n",
    "def rotateLeft(d, arr):\n",
    "    # Write your code here\n",
    "    temp = []\n",
    "    for i in range(d):\n",
    "        temp.append(arr[i])\n",
    "    for i in range(len(arr)-d):\n",
    "        arr[i] = arr[i+d]\n",
    "    for i in range(len(arr)-d,len(arr)):\n",
    "        arr[i] = temp[i-(len(arr)-d)]\n",
    "    return arr"
   ]
  },
  {
   "cell_type": "code",
   "execution_count": null,
   "id": "9754b5c5",
   "metadata": {},
   "outputs": [],
   "source": []
  },
  {
   "cell_type": "code",
   "execution_count": 40,
   "id": "1f49807a",
   "metadata": {},
   "outputs": [],
   "source": [
    "def inp_values ():\n",
    "    out_file = 'Output.txt'\n",
    "    fhand = open(out_file,'w')\n",
    "    first_multiple_input = input().rstrip().split()\n",
    "    \n",
    "    num_arr_ele = int(first_multiple_input[0])\n",
    "    num_left_rot = int(first_multiple_input[1])\n",
    "    # constraints:\n",
    "    if not 1 <= num_arr_ele <= 10**5 and 1 <= num_left_rot <= num_arr_ele:\n",
    "        exit(1)\n",
    "    \n",
    "    arr = list(map(int, input().rstrip().split()))\n",
    "    return fhand,num_arr_ele,num_left_rot,arr"
   ]
  },
  {
   "cell_type": "code",
   "execution_count": 41,
   "id": "0c7aa8e9",
   "metadata": {},
   "outputs": [
    {
     "name": "stdout",
     "output_type": "stream",
     "text": [
      "5 4\n",
      "1 2 3 4 5\n",
      "[1]\n",
      "[1, 2]\n",
      "[1, 2, 3]\n",
      "[1, 2, 3, 4]\n",
      "len of temp:  4\n",
      "start:  1 end:  5\n"
     ]
    }
   ],
   "source": [
    "if __name__ == '__main__':\n",
    "\n",
    "    fhand,num_arr_ele,num_left_rot,arr = inp_values()\n",
    "    result = rotateLeft(num_left_rot, arr)\n",
    "    fhand.write(' '.join(map(str, result)))\n",
    "    fhand.write('\\n')\n",
    "\n",
    "    fhand.close()\n"
   ]
  },
  {
   "cell_type": "code",
   "execution_count": null,
   "id": "ef9f8a0e",
   "metadata": {},
   "outputs": [],
   "source": []
  },
  {
   "cell_type": "code",
   "execution_count": 9,
   "id": "b2f5eec0",
   "metadata": {},
   "outputs": [
    {
     "name": "stdout",
     "output_type": "stream",
     "text": [
      "4\n",
      "3\n",
      "2\n",
      "1\n",
      "0\n"
     ]
    }
   ],
   "source": [
    "for i in range(4,-1,-1):\n",
    "    print(i)"
   ]
  },
  {
   "cell_type": "code",
   "execution_count": null,
   "id": "e04dd8a9",
   "metadata": {},
   "outputs": [],
   "source": []
  }
 ],
 "metadata": {
  "kernelspec": {
   "display_name": "Python 3",
   "language": "python",
   "name": "python3"
  },
  "language_info": {
   "codemirror_mode": {
    "name": "ipython",
    "version": 3
   },
   "file_extension": ".py",
   "mimetype": "text/x-python",
   "name": "python",
   "nbconvert_exporter": "python",
   "pygments_lexer": "ipython3",
   "version": "3.8.8"
  }
 },
 "nbformat": 4,
 "nbformat_minor": 5
}
