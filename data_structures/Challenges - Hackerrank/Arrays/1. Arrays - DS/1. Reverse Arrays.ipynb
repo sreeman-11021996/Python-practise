{
 "cells": [
  {
   "cell_type": "code",
   "execution_count": null,
   "id": "a6ccc182",
   "metadata": {},
   "outputs": [],
   "source": [
    "# Reverse Array"
   ]
  },
  {
   "cell_type": "code",
   "execution_count": 7,
   "id": "ab47191d",
   "metadata": {},
   "outputs": [],
   "source": [
    "import math\n",
    "import os\n",
    "import random\n",
    "import re\n",
    "import sys"
   ]
  },
  {
   "cell_type": "code",
   "execution_count": null,
   "id": "9e84fbf4",
   "metadata": {},
   "outputs": [],
   "source": []
  },
  {
   "cell_type": "code",
   "execution_count": 8,
   "id": "c1337406",
   "metadata": {},
   "outputs": [],
   "source": [
    "def reverseArray(arr):\n",
    "    res = list()\n",
    "    for i in range(len(arr)-1,-1,-1):\n",
    "        res.append(arr[i])\n",
    "    return res"
   ]
  },
  {
   "cell_type": "code",
   "execution_count": null,
   "id": "661f371f",
   "metadata": {},
   "outputs": [],
   "source": []
  },
  {
   "cell_type": "code",
   "execution_count": 10,
   "id": "99e73a59",
   "metadata": {},
   "outputs": [
    {
     "name": "stdout",
     "output_type": "stream",
     "text": [
      "4\n",
      "1 2 3 4\n"
     ]
    }
   ],
   "source": [
    "if __name__ == '__main__':\n",
    "    os.environ['OUTPUT_PATH'] = 'output.txt' \n",
    "    fptr = open(os.environ['OUTPUT_PATH'], 'w')\n",
    "\n",
    "    arr_count = int(input().strip())\n",
    "\n",
    "    arr = list(map(int, input().rstrip().split()))\n",
    "\n",
    "    res = reverseArray(arr)\n",
    "\n",
    "    fptr.write(' '.join(map(str, res)))\n",
    "    fptr.write('\\n')\n",
    "\n",
    "    fptr.close()\n"
   ]
  },
  {
   "cell_type": "code",
   "execution_count": null,
   "id": "ece438d9",
   "metadata": {},
   "outputs": [],
   "source": []
  },
  {
   "cell_type": "code",
   "execution_count": 11,
   "id": "2c71a2db",
   "metadata": {},
   "outputs": [],
   "source": [
    "import os\n",
    "import pprint"
   ]
  },
  {
   "cell_type": "code",
   "execution_count": 12,
   "id": "66a97168",
   "metadata": {},
   "outputs": [],
   "source": [
    "env_var = os.environ"
   ]
  },
  {
   "cell_type": "code",
   "execution_count": 13,
   "id": "f00b63a7",
   "metadata": {},
   "outputs": [
    {
     "name": "stdout",
     "output_type": "stream",
     "text": [
      "Environment Variables:\n",
      "{'ALLUSERSPROFILE': 'C:\\\\ProgramData',\n",
      " 'APPDATA': 'C:\\\\Users\\\\SREEMAN\\\\AppData\\\\Roaming',\n",
      " 'CLICOLOR': '1',\n",
      " 'CLION': 'C:\\\\Program Files\\\\JetBrains\\\\CLion 2021.2.3\\\\bin;',\n",
      " 'COMMONPROGRAMFILES': 'C:\\\\Program Files\\\\Common Files',\n",
      " 'COMMONPROGRAMFILES(X86)': 'C:\\\\Program Files (x86)\\\\Common Files',\n",
      " 'COMMONPROGRAMW6432': 'C:\\\\Program Files\\\\Common Files',\n",
      " 'COMPUTERNAME': 'DESKTOP-O9S40IJ',\n",
      " 'COMSPEC': 'C:\\\\WINDOWS\\\\system32\\\\cmd.exe',\n",
      " 'CONDA_PREFIX': 'C:\\\\Users\\\\SREEMAN\\\\anaconda3',\n",
      " 'DRIVERDATA': 'C:\\\\Windows\\\\System32\\\\Drivers\\\\DriverData',\n",
      " 'FPS_BROWSER_APP_PROFILE_STRING': 'Internet Explorer',\n",
      " 'FPS_BROWSER_USER_PROFILE_STRING': 'Default',\n",
      " 'GIT_PAGER': 'cat',\n",
      " 'HOMEDRIVE': 'C:',\n",
      " 'HOMEPATH': '\\\\Users\\\\SREEMAN',\n",
      " 'IPY_INTERRUPT_EVENT': '3452',\n",
      " 'JPY_INTERRUPT_EVENT': '3452',\n",
      " 'JPY_PARENT_PID': '3516',\n",
      " 'LOCALAPPDATA': 'C:\\\\Users\\\\SREEMAN\\\\AppData\\\\Local',\n",
      " 'LOGONSERVER': '\\\\\\\\DESKTOP-O9S40IJ',\n",
      " 'MPLBACKEND': 'module://ipykernel.pylab.backend_inline',\n",
      " 'NUMBER_OF_PROCESSORS': '8',\n",
      " 'ONEDRIVE': 'C:\\\\Users\\\\SREEMAN\\\\OneDrive',\n",
      " 'ONEDRIVECONSUMER': 'C:\\\\Users\\\\SREEMAN\\\\OneDrive',\n",
      " 'OS': 'Windows_NT',\n",
      " 'PAGER': 'cat',\n",
      " 'PATH': 'C:\\\\Users\\\\SREEMAN\\\\anaconda3;C:\\\\Users\\\\SREEMAN\\\\anaconda3\\\\Library\\\\mingw-w64\\\\bin;C:\\\\Users\\\\SREEMAN\\\\anaconda3\\\\Library\\\\usr\\\\bin;C:\\\\Users\\\\SREEMAN\\\\anaconda3\\\\Library\\\\bin;C:\\\\Users\\\\SREEMAN\\\\anaconda3\\\\Scripts;C:\\\\Program '\n",
      "         'Files (x86)\\\\Common '\n",
      "         'Files\\\\Oracle\\\\Java\\\\javapath;C:\\\\Windows\\\\system32;C:\\\\Windows;C:\\\\Windows\\\\System32\\\\Wbem;C:\\\\Windows\\\\System32\\\\WindowsPowerShell\\\\v1.0\\\\;C:\\\\Windows\\\\System32\\\\OpenSSH\\\\;C:\\\\Program '\n",
      "         'Files (x86)\\\\Intel\\\\Intel(R) Management Engine '\n",
      "         'Components\\\\DAL;C:\\\\Program Files\\\\Intel\\\\Intel(R) Management Engine '\n",
      "         'Components\\\\DAL;C:\\\\Program Files\\\\Intel\\\\WiFi\\\\bin\\\\;C:\\\\Program '\n",
      "         'Files\\\\Common Files\\\\Intel\\\\WirelessCommon\\\\;C:\\\\Program Files '\n",
      "         '(x86)\\\\NVIDIA Corporation\\\\PhysX\\\\Common;C:\\\\Program Files '\n",
      "         '(x86)\\\\Bitvise SSH Client;C:\\\\Program '\n",
      "         'Files\\\\dotnet\\\\;C:\\\\WINDOWS\\\\system32;C:\\\\WINDOWS;C:\\\\WINDOWS\\\\System32\\\\Wbem;C:\\\\WINDOWS\\\\System32\\\\WindowsPowerShell\\\\v1.0\\\\;C:\\\\WINDOWS\\\\System32\\\\OpenSSH\\\\;C:\\\\Program '\n",
      "         'Files\\\\Git\\\\cmd;C:\\\\MinGW\\\\bin;C:\\\\Users\\\\SREEMAN\\\\AppData\\\\Local\\\\Programs\\\\Python\\\\Python310\\\\Scripts\\\\;C:\\\\Users\\\\SREEMAN\\\\AppData\\\\Local\\\\Programs\\\\Python\\\\Python310\\\\;C:\\\\Users\\\\SREEMAN\\\\AppData\\\\Local\\\\Microsoft\\\\WindowsApps;C:\\\\Users\\\\SREEMAN\\\\AppData\\\\Local\\\\atom\\\\bin;C:\\\\Users\\\\SREEMAN\\\\AppData\\\\Local\\\\Programs\\\\MiKTeX '\n",
      "         '2.9\\\\miktex\\\\bin\\\\x64\\\\;C:\\\\Users\\\\SREEMAN\\\\AppData\\\\Local\\\\Microsoft\\\\WindowsApps;C:\\\\Users\\\\SREEMAN\\\\AppData\\\\Local\\\\Programs\\\\Microsoft '\n",
      "         'VS Code\\\\bin;C:\\\\msys64\\\\mingw64\\\\bin;C:\\\\MinGW\\\\bin;C:\\\\Program '\n",
      "         'Files\\\\JetBrains\\\\CLion '\n",
      "         '2021.2.3\\\\bin;;C:\\\\Users\\\\SREEMAN\\\\.dotnet\\\\tools;C:\\\\Users\\\\SREEMAN\\\\AppData\\\\Local\\\\GitHubDesktop\\\\bin;',\n",
      " 'PATHEXT': '.COM;.EXE;.BAT;.CMD;.VBS;.VBE;.JS;.JSE;.WSF;.WSH;.MSC',\n",
      " 'PROCESSOR_ARCHITECTURE': 'AMD64',\n",
      " 'PROCESSOR_IDENTIFIER': 'Intel64 Family 6 Model 142 Stepping 11, GenuineIntel',\n",
      " 'PROCESSOR_LEVEL': '6',\n",
      " 'PROCESSOR_REVISION': '8e0b',\n",
      " 'PROGRAMDATA': 'C:\\\\ProgramData',\n",
      " 'PROGRAMFILES': 'C:\\\\Program Files',\n",
      " 'PROGRAMFILES(X86)': 'C:\\\\Program Files (x86)',\n",
      " 'PROGRAMW6432': 'C:\\\\Program Files',\n",
      " 'PSMODULEPATH': 'C:\\\\Program '\n",
      "                 'Files\\\\WindowsPowerShell\\\\Modules;C:\\\\WINDOWS\\\\system32\\\\WindowsPowerShell\\\\v1.0\\\\Modules',\n",
      " 'PUBLIC': 'C:\\\\Users\\\\Public',\n",
      " 'SESSIONNAME': 'Console',\n",
      " 'SYSTEMDRIVE': 'C:',\n",
      " 'SYSTEMROOT': 'C:\\\\WINDOWS',\n",
      " 'TEMP': 'C:\\\\Users\\\\SREEMAN\\\\AppData\\\\Local\\\\Temp',\n",
      " 'TERM': 'xterm-color',\n",
      " 'TMP': 'C:\\\\Users\\\\SREEMAN\\\\AppData\\\\Local\\\\Temp',\n",
      " 'USERDOMAIN': 'DESKTOP-O9S40IJ',\n",
      " 'USERDOMAIN_ROAMINGPROFILE': 'DESKTOP-O9S40IJ',\n",
      " 'USERNAME': 'SREEMAN',\n",
      " 'USERPROFILE': 'C:\\\\Users\\\\SREEMAN',\n",
      " 'WINDIR': 'C:\\\\WINDOWS'}\n"
     ]
    }
   ],
   "source": [
    "print('Environment Variables:')\n",
    "pprint.pprint(dict(env_var))"
   ]
  },
  {
   "cell_type": "code",
   "execution_count": null,
   "id": "574d8ef5",
   "metadata": {},
   "outputs": [],
   "source": []
  }
 ],
 "metadata": {
  "kernelspec": {
   "display_name": "Python 3",
   "language": "python",
   "name": "python3"
  },
  "language_info": {
   "codemirror_mode": {
    "name": "ipython",
    "version": 3
   },
   "file_extension": ".py",
   "mimetype": "text/x-python",
   "name": "python",
   "nbconvert_exporter": "python",
   "pygments_lexer": "ipython3",
   "version": "3.8.8"
  }
 },
 "nbformat": 4,
 "nbformat_minor": 5
}
