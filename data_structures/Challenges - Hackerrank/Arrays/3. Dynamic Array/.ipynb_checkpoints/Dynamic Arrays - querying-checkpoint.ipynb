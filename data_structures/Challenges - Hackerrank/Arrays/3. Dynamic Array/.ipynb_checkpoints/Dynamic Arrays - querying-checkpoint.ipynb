{
 "cells": [
  {
   "cell_type": "code",
   "execution_count": 1,
   "id": "75944b14",
   "metadata": {},
   "outputs": [],
   "source": [
    "\n",
    "import math\n",
    "import os\n",
    "import random\n",
    "import re\n",
    "import sys\n",
    "import ctypes"
   ]
  },
  {
   "cell_type": "code",
   "execution_count": 46,
   "id": "314430ea",
   "metadata": {},
   "outputs": [],
   "source": [
    "class Mylist:\n",
    "    def __init__(self):\n",
    "        # number of elements\n",
    "        self.n = 0   \n",
    "        # size of array\n",
    "        self.size = 1\n",
    "        self.A = self._make_array(self.size)\n",
    "        \n",
    "    def __str__(self):\n",
    "        temp = \"\"\n",
    "        for i in range(self.n):\n",
    "            temp = temp + str(self.A[i]) + ','\n",
    "        temp = temp[:-1]\n",
    "        return \"[\" + temp + \"]\"\n",
    "    def __len__ (self):\n",
    "        return self.n\n",
    "    \n",
    "    def __getitem__(self,index):\n",
    "        if not 0 <= index < self.n:\n",
    "            return IndexError ('Invalid Index')\n",
    "        else:\n",
    "            return self.A[index]\n",
    "    \n",
    "    def append(self,item):\n",
    "        if self.n == self.size:\n",
    "            self._resize(2*self.size)\n",
    "        self.A[self.n] = item\n",
    "        self.n+=1\n",
    "                \n",
    "    def _resize(self,new_capacity):\n",
    "        B = self._make_array(new_capacity)\n",
    "        self.size = new_capacity\n",
    "        for i in range(self.n):\n",
    "            B[i] = self.A[i]\n",
    "        self.A = B\n",
    "    def _make_array(self,capacity):\n",
    "        return (capacity * ctypes.py_object)()"
   ]
  },
  {
   "cell_type": "code",
   "execution_count": 98,
   "id": "a2065989",
   "metadata": {},
   "outputs": [],
   "source": [
    "def query_cal(arr,query,lastAnswer):\n",
    "    #query - format: [type X Y]\n",
    "    TYPE_idx = 0\n",
    "    X_idx = 1\n",
    "    Y_idx = 2\n",
    "    QUERY_1 = 1\n",
    "    QUERY_2 = 2\n",
    "    if not 1 <= query[X_idx] and query[Y_idx] < 10*9:\n",
    "        exit(2)\n",
    "    index = (query[X_idx]^lastAnswer)%n\n",
    "    if (query[TYPE_idx] == QUERY_1):\n",
    "        arr[index].append(query[Y_idx])\n",
    "    elif (query[TYPE_idx] == QUERY_2 and len(arr[index])):\n",
    "        new_lA = arr[index][query[Y_idx]%len(arr[index])]\n",
    "        return new_lA\n",
    "    else: \n",
    "        exit(3)"
   ]
  },
  {
   "cell_type": "code",
   "execution_count": 102,
   "id": "beada73b",
   "metadata": {},
   "outputs": [],
   "source": [
    "def dynamicArray(n, queries):\n",
    "    arr = Mylist()\n",
    "    # constraint 1\n",
    "    if not 1<= n and len(queries) < 10*5:\n",
    "        exit(1)\n",
    "    for i in range(n):\n",
    "        temp = Mylist()\n",
    "        arr.append(temp)\n",
    "    lastAnswer = 0\n",
    "    answers=[]\n",
    "    for query in queries:\n",
    "        new_lA = query_cal(arr,query,lastAnswer)\n",
    "        if new_lA:\n",
    "            lastAnswer = new_lA\n",
    "            answers.append(lastAnswer)\n",
    "        # print the results of the query\n",
    "        print('lastAnswer: ',lastAnswer)\n",
    "        for i in range(n):\n",
    "            print('arr[',i,']: ',arr[i])\n",
    "    return answers"
   ]
  },
  {
   "cell_type": "code",
   "execution_count": 103,
   "id": "7cce119c",
   "metadata": {},
   "outputs": [],
   "source": [
    "queries = [[1, 0, 5], [1, 1, 7], [1, 0, 3], [2, 1, 0], [2, 1, 1]]\n",
    "n = 2"
   ]
  },
  {
   "cell_type": "code",
   "execution_count": 104,
   "id": "09565a5b",
   "metadata": {},
   "outputs": [
    {
     "name": "stdout",
     "output_type": "stream",
     "text": [
      "lastAnswer:  0\n",
      "arr[ 0 ]:  [5]\n",
      "arr[ 1 ]:  []\n",
      "lastAnswer:  0\n",
      "arr[ 0 ]:  [5]\n",
      "arr[ 1 ]:  [7]\n",
      "lastAnswer:  0\n",
      "arr[ 0 ]:  [5,3]\n",
      "arr[ 1 ]:  [7]\n",
      "lastAnswer:  7\n",
      "arr[ 0 ]:  [5,3]\n",
      "arr[ 1 ]:  [7]\n",
      "lastAnswer:  3\n",
      "arr[ 0 ]:  [5,3]\n",
      "arr[ 1 ]:  [7]\n",
      "[7, 3]\n"
     ]
    }
   ],
   "source": [
    "answer = dynamicArray(n,queries)\n",
    "print(answer)"
   ]
  },
  {
   "cell_type": "code",
   "execution_count": null,
   "id": "cbabce98",
   "metadata": {},
   "outputs": [],
   "source": []
  },
  {
   "cell_type": "code",
   "execution_count": null,
   "id": "2f9199b6",
   "metadata": {},
   "outputs": [],
   "source": [
    "# The function accepts following parameters:\n",
    "#  1. INTEGER n\n",
    "#  2. 2D_INTEGER_ARRAY queries\n",
    "#\n",
    "\n",
    "def dynamicArray(n, queries):\n",
    "    # Write your code here\n"
   ]
  },
  {
   "cell_type": "code",
   "execution_count": 5,
   "id": "5acde85c",
   "metadata": {},
   "outputs": [
    {
     "name": "stdout",
     "output_type": "stream",
     "text": [
      "2 5\n",
      "1 0 5\n",
      "1 1 7\n",
      "1 0 3\n",
      "2 1 0\n",
      "2 1 1\n",
      "[[1, 0, 5], [1, 1, 7], [1, 0, 3], [2, 1, 0], [2, 1, 1]]\n"
     ]
    }
   ],
   "source": [
    "\n",
    "if __name__ == '__main__':\n",
    "    os.environ['OUTPUT_PATH'] = 'output.txt' \n",
    "    fptr = open(os.environ['OUTPUT_PATH'], 'w')\n",
    "\n",
    "    first_multiple_input = input().rstrip().split()\n",
    "\n",
    "    n = int(first_multiple_input[0])\n",
    "\n",
    "    q = int(first_multiple_input[1])\n",
    "\n",
    "    queries = []\n",
    "\n",
    "    for _ in range(q):\n",
    "        queries.append(list(map(int, input().rstrip().split())))\n",
    "    print (queries)\n",
    "    #result = dynamicArray(n, queries)\n",
    "\n",
    "    #fptr.write('\\n'.join(map(str, result)))\n",
    "    fptr.write('\\n')\n",
    "\n",
    "    fptr.close()"
   ]
  },
  {
   "cell_type": "code",
   "execution_count": null,
   "id": "7eb57299",
   "metadata": {},
   "outputs": [],
   "source": []
  }
 ],
 "metadata": {
  "kernelspec": {
   "display_name": "Python 3",
   "language": "python",
   "name": "python3"
  },
  "language_info": {
   "codemirror_mode": {
    "name": "ipython",
    "version": 3
   },
   "file_extension": ".py",
   "mimetype": "text/x-python",
   "name": "python",
   "nbconvert_exporter": "python",
   "pygments_lexer": "ipython3",
   "version": "3.8.8"
  }
 },
 "nbformat": 4,
 "nbformat_minor": 5
}
