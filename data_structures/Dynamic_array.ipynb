{
 "cells": [
  {
   "cell_type": "code",
   "execution_count": 273,
   "id": "9b06d56d",
   "metadata": {},
   "outputs": [],
   "source": [
    "import ctypes\n",
    "\n",
    "class MyList:\n",
    "    def __init__(self):\n",
    "        self.n = 0                      #number of items in list\n",
    "        self.size = 1   \n",
    "        self.A = self._make_array(self.size)       #actual array\n",
    "    \n",
    "    #magic methods\n",
    "    def __len__(self):\n",
    "        #len(arr)\n",
    "        return self.n\n",
    "    \n",
    "    def __getitem__(self,index):\n",
    "        #arr[0]\n",
    "        if not 0 <= index < self.n:\n",
    "            return IndexError ('Invalid Index')\n",
    "        else:\n",
    "            return self.A[index]  \n",
    "    \n",
    "    def __delitem__ (self,index):\n",
    "        # del arr[5]\n",
    "        if 0 <= index < self.n:\n",
    "            #do the deletion\n",
    "            for i in range(index,self.n-1):\n",
    "                self.A[i] = self.A[i+1]\n",
    "            self.n-=1\n",
    "        else:\n",
    "            return IndexError('Invalid Index for Insertion')\n",
    "                    \n",
    "    def __str__ (self):     # printing the list\n",
    "        #print(arr)\n",
    "        temp = \"\"\n",
    "        for i in range(self.n):\n",
    "            temp = temp + str(self.A[i]) + \",\"\n",
    "        temp = temp[:-1]\n",
    "        return \"[\" + temp + \"]\"\n",
    "    #--  \n",
    "    \n",
    "    def remove (self,value):\n",
    "        flag=0\n",
    "        for i in range(self.n):\n",
    "            if self.A[i] == value:\n",
    "                flag=1\n",
    "                for j in range(i,self.n-1):\n",
    "                    self.A[j] = self.A[j+1]\n",
    "                self.n-=1\n",
    "                break\n",
    "        if(flag==0):\n",
    "            print('Not Found')\n",
    "    \n",
    "    def append (self,item):\n",
    "        if self.n == self.size:         #if array is full\n",
    "            self._resize(2*self.size)\n",
    "        self.A[self.n] = item\n",
    "        self.n+=1\n",
    "    \n",
    "    def insert (self,index,value):\n",
    "        if 0 <= index < self.n:\n",
    "            #do the insertion\n",
    "            if self.n == self.size:\n",
    "                self._resize(2*self.size)\n",
    "            for i in range(self.n-1,index-1,-1):\n",
    "                self.A[i+1] = self.A[i]\n",
    "            self.A[index] = value\n",
    "            self.n+=1\n",
    "        else:\n",
    "            return IndexError('Invalid Index for Insertion')\n",
    "    \n",
    "    def pop (self):\n",
    "        self.n-=1\n",
    "    \n",
    "    def clear(self):\n",
    "        self.n = 0\n",
    "        \n",
    "    def find (self,item):\n",
    "        flag=0\n",
    "        for i in range(self.n):\n",
    "            if self.A[i] == item :\n",
    "                flag=1\n",
    "                break\n",
    "        if (flag==1):\n",
    "            return i\n",
    "        else:\n",
    "            return -1\n",
    "        \n",
    "    def _resize (self,new_capacity):\n",
    "        #create new array\n",
    "        B = self._make_array(new_capacity);\n",
    "        self.size = new_capacity\n",
    "        #copy the old content\n",
    "        for i in range(self.n):\n",
    "            B[i] = self.A[i]\n",
    "        #Reassign\n",
    "        self.A = B\n",
    "\n",
    "    def _make_array(self, capacity):\n",
    "        return (capacity * ctypes.py_object)()\n"
   ]
  },
  {
   "cell_type": "code",
   "execution_count": 274,
   "id": "53a3ee7d",
   "metadata": {},
   "outputs": [],
   "source": [
    "arr = MyList()"
   ]
  },
  {
   "cell_type": "code",
   "execution_count": 275,
   "id": "de5a7f6b",
   "metadata": {},
   "outputs": [
    {
     "data": {
      "text/plain": [
       "1"
      ]
     },
     "execution_count": 275,
     "metadata": {},
     "output_type": "execute_result"
    }
   ],
   "source": [
    "arr.size"
   ]
  },
  {
   "cell_type": "code",
   "execution_count": 276,
   "id": "4aeb5ece",
   "metadata": {},
   "outputs": [],
   "source": [
    "arr.append(15)"
   ]
  },
  {
   "cell_type": "code",
   "execution_count": 277,
   "id": "5b2711e2",
   "metadata": {},
   "outputs": [],
   "source": [
    "arr.append(25)"
   ]
  },
  {
   "cell_type": "code",
   "execution_count": 278,
   "id": "70e72be7",
   "metadata": {},
   "outputs": [],
   "source": [
    "arr.append(4)"
   ]
  },
  {
   "cell_type": "code",
   "execution_count": 279,
   "id": "48f98c7e",
   "metadata": {},
   "outputs": [
    {
     "name": "stdout",
     "output_type": "stream",
     "text": [
      "[15,25,4]\n"
     ]
    }
   ],
   "source": [
    "print(arr)"
   ]
  },
  {
   "cell_type": "code",
   "execution_count": 280,
   "id": "12db377d",
   "metadata": {},
   "outputs": [
    {
     "data": {
      "text/plain": [
       "4"
      ]
     },
     "execution_count": 280,
     "metadata": {},
     "output_type": "execute_result"
    }
   ],
   "source": [
    "arr.size"
   ]
  },
  {
   "cell_type": "code",
   "execution_count": 281,
   "id": "5ed418dd",
   "metadata": {},
   "outputs": [
    {
     "data": {
      "text/plain": [
       "4"
      ]
     },
     "execution_count": 281,
     "metadata": {},
     "output_type": "execute_result"
    }
   ],
   "source": [
    "arr[2]"
   ]
  },
  {
   "cell_type": "code",
   "execution_count": 282,
   "id": "85684720",
   "metadata": {},
   "outputs": [
    {
     "data": {
      "text/plain": [
       "IndexError('Invalid Index')"
      ]
     },
     "execution_count": 282,
     "metadata": {},
     "output_type": "execute_result"
    }
   ],
   "source": [
    "arr[3]"
   ]
  },
  {
   "cell_type": "code",
   "execution_count": 283,
   "id": "235cdf7a",
   "metadata": {},
   "outputs": [
    {
     "data": {
      "text/plain": [
       "4"
      ]
     },
     "execution_count": 283,
     "metadata": {},
     "output_type": "execute_result"
    }
   ],
   "source": [
    "arr.size"
   ]
  },
  {
   "cell_type": "code",
   "execution_count": 284,
   "id": "c710548d",
   "metadata": {},
   "outputs": [],
   "source": [
    "arr.insert(1,30)"
   ]
  },
  {
   "cell_type": "code",
   "execution_count": 285,
   "id": "9a86339f",
   "metadata": {},
   "outputs": [
    {
     "name": "stdout",
     "output_type": "stream",
     "text": [
      "[15,30,25,4]\n"
     ]
    }
   ],
   "source": [
    "print(arr)"
   ]
  },
  {
   "cell_type": "code",
   "execution_count": 286,
   "id": "25a1f0f0",
   "metadata": {},
   "outputs": [
    {
     "data": {
      "text/plain": [
       "4"
      ]
     },
     "execution_count": 286,
     "metadata": {},
     "output_type": "execute_result"
    }
   ],
   "source": [
    "arr.size"
   ]
  },
  {
   "cell_type": "code",
   "execution_count": 287,
   "id": "4a722ca1",
   "metadata": {},
   "outputs": [],
   "source": [
    "arr.insert(3,45)"
   ]
  },
  {
   "cell_type": "code",
   "execution_count": 288,
   "id": "d3db440c",
   "metadata": {},
   "outputs": [
    {
     "name": "stdout",
     "output_type": "stream",
     "text": [
      "[15,30,25,45,4]\n"
     ]
    }
   ],
   "source": [
    "print(arr)"
   ]
  },
  {
   "cell_type": "code",
   "execution_count": 250,
   "id": "97033cd5",
   "metadata": {},
   "outputs": [
    {
     "data": {
      "text/plain": [
       "8"
      ]
     },
     "execution_count": 250,
     "metadata": {},
     "output_type": "execute_result"
    }
   ],
   "source": [
    "arr.size"
   ]
  },
  {
   "cell_type": "code",
   "execution_count": 169,
   "id": "86ee7ec5",
   "metadata": {},
   "outputs": [],
   "source": [
    "arr.remove(25)"
   ]
  },
  {
   "cell_type": "code",
   "execution_count": 170,
   "id": "30a78ae0",
   "metadata": {},
   "outputs": [
    {
     "name": "stdout",
     "output_type": "stream",
     "text": [
      "[15,30,45,4]\n"
     ]
    }
   ],
   "source": [
    "print(arr)"
   ]
  },
  {
   "cell_type": "code",
   "execution_count": 289,
   "id": "0654e21a",
   "metadata": {},
   "outputs": [],
   "source": [
    "arr.append(14)"
   ]
  },
  {
   "cell_type": "code",
   "execution_count": 290,
   "id": "1a96f5d4",
   "metadata": {},
   "outputs": [
    {
     "name": "stdout",
     "output_type": "stream",
     "text": [
      "[15,30,25,45,4,14]\n"
     ]
    }
   ],
   "source": [
    "print(arr)"
   ]
  },
  {
   "cell_type": "code",
   "execution_count": 253,
   "id": "b1e15efb",
   "metadata": {},
   "outputs": [
    {
     "data": {
      "text/plain": [
       "8"
      ]
     },
     "execution_count": 253,
     "metadata": {},
     "output_type": "execute_result"
    }
   ],
   "source": [
    "arr.size"
   ]
  },
  {
   "cell_type": "code",
   "execution_count": 254,
   "id": "e84199bc",
   "metadata": {},
   "outputs": [],
   "source": [
    "arr.clear()"
   ]
  },
  {
   "cell_type": "code",
   "execution_count": 255,
   "id": "ca2264b5",
   "metadata": {},
   "outputs": [
    {
     "name": "stdout",
     "output_type": "stream",
     "text": [
      "[]\n"
     ]
    }
   ],
   "source": [
    "print(arr)"
   ]
  },
  {
   "cell_type": "code",
   "execution_count": 256,
   "id": "adf61f24",
   "metadata": {},
   "outputs": [
    {
     "data": {
      "text/plain": [
       "0"
      ]
     },
     "execution_count": 256,
     "metadata": {},
     "output_type": "execute_result"
    }
   ],
   "source": [
    "len(arr)"
   ]
  },
  {
   "cell_type": "code",
   "execution_count": 291,
   "id": "d952eb4c",
   "metadata": {},
   "outputs": [
    {
     "name": "stdout",
     "output_type": "stream",
     "text": [
      "[15,30,25,45,4,14]\n"
     ]
    }
   ],
   "source": [
    "print(arr)"
   ]
  },
  {
   "cell_type": "code",
   "execution_count": 292,
   "id": "9793b4ce",
   "metadata": {},
   "outputs": [
    {
     "data": {
      "text/plain": [
       "3"
      ]
     },
     "execution_count": 292,
     "metadata": {},
     "output_type": "execute_result"
    }
   ],
   "source": [
    "arr.find(45)"
   ]
  },
  {
   "cell_type": "code",
   "execution_count": 293,
   "id": "a529e4a0",
   "metadata": {},
   "outputs": [
    {
     "data": {
      "text/plain": [
       "-1"
      ]
     },
     "execution_count": 293,
     "metadata": {},
     "output_type": "execute_result"
    }
   ],
   "source": [
    "arr.find(89)"
   ]
  },
  {
   "cell_type": "code",
   "execution_count": 257,
   "id": "66d5cf75",
   "metadata": {},
   "outputs": [
    {
     "data": {
      "text/plain": [
       "8"
      ]
     },
     "execution_count": 257,
     "metadata": {},
     "output_type": "execute_result"
    }
   ],
   "source": [
    "arr.size"
   ]
  },
  {
   "cell_type": "code",
   "execution_count": 258,
   "id": "9a9b73d1",
   "metadata": {},
   "outputs": [],
   "source": [
    "arr.append(11)"
   ]
  },
  {
   "cell_type": "code",
   "execution_count": 259,
   "id": "dd856ad8",
   "metadata": {},
   "outputs": [],
   "source": [
    "arr.append(12)"
   ]
  },
  {
   "cell_type": "code",
   "execution_count": 260,
   "id": "d56e2661",
   "metadata": {},
   "outputs": [],
   "source": [
    "arr.append(13)"
   ]
  },
  {
   "cell_type": "code",
   "execution_count": 261,
   "id": "c45bb6dc",
   "metadata": {},
   "outputs": [
    {
     "name": "stdout",
     "output_type": "stream",
     "text": [
      "[11,12,13]\n"
     ]
    }
   ],
   "source": [
    "print(arr)"
   ]
  },
  {
   "cell_type": "code",
   "execution_count": 262,
   "id": "fdd308da",
   "metadata": {},
   "outputs": [],
   "source": [
    "arr.append(14)"
   ]
  },
  {
   "cell_type": "code",
   "execution_count": 263,
   "id": "0fd7351e",
   "metadata": {},
   "outputs": [
    {
     "data": {
      "text/plain": [
       "8"
      ]
     },
     "execution_count": 263,
     "metadata": {},
     "output_type": "execute_result"
    }
   ],
   "source": [
    "arr.size"
   ]
  },
  {
   "cell_type": "code",
   "execution_count": 264,
   "id": "b764fe63",
   "metadata": {},
   "outputs": [],
   "source": [
    "arr.append(15)"
   ]
  },
  {
   "cell_type": "code",
   "execution_count": 265,
   "id": "3f8b7ea5",
   "metadata": {},
   "outputs": [],
   "source": [
    "arr.append(16)"
   ]
  },
  {
   "cell_type": "code",
   "execution_count": 266,
   "id": "45a9c6fb",
   "metadata": {},
   "outputs": [],
   "source": [
    "arr.append(17)"
   ]
  },
  {
   "cell_type": "code",
   "execution_count": 267,
   "id": "cb083093",
   "metadata": {},
   "outputs": [],
   "source": [
    "arr.append(18)"
   ]
  },
  {
   "cell_type": "code",
   "execution_count": 268,
   "id": "631e29d4",
   "metadata": {},
   "outputs": [
    {
     "name": "stdout",
     "output_type": "stream",
     "text": [
      "[11,12,13,14,15,16,17,18]\n"
     ]
    }
   ],
   "source": [
    "print(arr)"
   ]
  },
  {
   "cell_type": "code",
   "execution_count": 269,
   "id": "67fa6a33",
   "metadata": {},
   "outputs": [
    {
     "data": {
      "text/plain": [
       "8"
      ]
     },
     "execution_count": 269,
     "metadata": {},
     "output_type": "execute_result"
    }
   ],
   "source": [
    "arr.size"
   ]
  },
  {
   "cell_type": "code",
   "execution_count": 270,
   "id": "d0e33399",
   "metadata": {},
   "outputs": [
    {
     "data": {
      "text/plain": [
       "8"
      ]
     },
     "execution_count": 270,
     "metadata": {},
     "output_type": "execute_result"
    }
   ],
   "source": [
    "len(arr)"
   ]
  },
  {
   "cell_type": "code",
   "execution_count": 271,
   "id": "d293f2e8",
   "metadata": {},
   "outputs": [],
   "source": [
    "arr.append(45)"
   ]
  },
  {
   "cell_type": "code",
   "execution_count": 272,
   "id": "4b924f09",
   "metadata": {},
   "outputs": [
    {
     "data": {
      "text/plain": [
       "16"
      ]
     },
     "execution_count": 272,
     "metadata": {},
     "output_type": "execute_result"
    }
   ],
   "source": [
    "arr.size"
   ]
  },
  {
   "cell_type": "code",
   "execution_count": null,
   "id": "79832a2b",
   "metadata": {},
   "outputs": [],
   "source": []
  }
 ],
 "metadata": {
  "kernelspec": {
   "display_name": "Python 3",
   "language": "python",
   "name": "python3"
  },
  "language_info": {
   "codemirror_mode": {
    "name": "ipython",
    "version": 3
   },
   "file_extension": ".py",
   "mimetype": "text/x-python",
   "name": "python",
   "nbconvert_exporter": "python",
   "pygments_lexer": "ipython3",
   "version": "3.8.8"
  }
 },
 "nbformat": 4,
 "nbformat_minor": 5
}
