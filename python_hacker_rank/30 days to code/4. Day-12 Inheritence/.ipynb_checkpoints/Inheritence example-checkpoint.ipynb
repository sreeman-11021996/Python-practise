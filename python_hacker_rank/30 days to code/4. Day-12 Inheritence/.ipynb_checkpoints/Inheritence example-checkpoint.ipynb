{
 "cells": [
  {
   "cell_type": "code",
   "execution_count": null,
   "id": "6108eed7",
   "metadata": {},
   "outputs": [],
   "source": []
  },
  {
   "cell_type": "code",
   "execution_count": 9,
   "id": "540269cf",
   "metadata": {},
   "outputs": [],
   "source": [
    "class Person:\n",
    "    def __init__(self, firstName, lastName, idNumber):\n",
    "        self.firstName = firstName\n",
    "        self.lastName = lastName\n",
    "        self.idNumber = idNumber\n",
    "    def printPerson(self):\n",
    "        print(\"Name:\", self.lastName + \" \", self.firstName)\n",
    "        print(\"ID:\", self.idNumber)"
   ]
  },
  {
   "cell_type": "code",
   "execution_count": 36,
   "id": "d611e4f5",
   "metadata": {},
   "outputs": [],
   "source": [
    "class Student(Person):\n",
    "    def __init__(self,firstName, lastName, idNum, scores):\n",
    "        self.scores = scores\n",
    "        super().__init__(firstName, lastName, idNum)\n",
    "    def calculate (self):\n",
    "        avg = sum(self.scores)/len(self.scores)\n",
    "        \n",
    "        if avg < 40:\n",
    "            return 'T'\n",
    "        elif avg < 55:\n",
    "                return 'D'\n",
    "        elif avg < 70:\n",
    "            return 'P'\n",
    "        elif avg < 80:\n",
    "            return 'A'\n",
    "        elif avg < 90:\n",
    "            return 'E'\n",
    "        else:\n",
    "            return 'O'"
   ]
  },
  {
   "cell_type": "code",
   "execution_count": 37,
   "id": "5aafe210",
   "metadata": {},
   "outputs": [],
   "source": [
    "def initi_student():\n",
    "    line = input().split()\n",
    "    firstName = line[0]\n",
    "    lastName = line[1]\n",
    "    idNum = line[2]\n",
    "    scores = list( map(int, input().split()) )\n",
    "    \n",
    "    return Student(firstName, lastName, idNum, scores)"
   ]
  },
  {
   "cell_type": "code",
   "execution_count": 38,
   "id": "2e2da00f",
   "metadata": {},
   "outputs": [
    {
     "name": "stdout",
     "output_type": "stream",
     "text": [
      "Srinivaas M.B 6643267\n",
      "45 78 95\n",
      "Name: M.B, Srinivaas\n",
      "ID: 6643267\n",
      "Grade: A\n"
     ]
    }
   ],
   "source": [
    "# main\n",
    "if __name__ == '__main__':\n",
    "    s = initi_student()\n",
    "    s.printPerson()\n",
    "    print(\"Grade:\", s.calculate())"
   ]
  },
  {
   "cell_type": "code",
   "execution_count": null,
   "id": "1180a9b8",
   "metadata": {},
   "outputs": [],
   "source": []
  },
  {
   "cell_type": "code",
   "execution_count": null,
   "id": "5d821431",
   "metadata": {},
   "outputs": [],
   "source": []
  },
  {
   "cell_type": "code",
   "execution_count": null,
   "id": "70a83dfb",
   "metadata": {},
   "outputs": [],
   "source": []
  },
  {
   "cell_type": "code",
   "execution_count": null,
   "id": "339291c2",
   "metadata": {},
   "outputs": [],
   "source": []
  },
  {
   "cell_type": "code",
   "execution_count": null,
   "id": "9e198e38",
   "metadata": {},
   "outputs": [],
   "source": []
  }
 ],
 "metadata": {
  "kernelspec": {
   "display_name": "Python 3",
   "language": "python",
   "name": "python3"
  },
  "language_info": {
   "codemirror_mode": {
    "name": "ipython",
    "version": 3
   },
   "file_extension": ".py",
   "mimetype": "text/x-python",
   "name": "python",
   "nbconvert_exporter": "python",
   "pygments_lexer": "ipython3",
   "version": "3.8.8"
  }
 },
 "nbformat": 4,
 "nbformat_minor": 5
}
