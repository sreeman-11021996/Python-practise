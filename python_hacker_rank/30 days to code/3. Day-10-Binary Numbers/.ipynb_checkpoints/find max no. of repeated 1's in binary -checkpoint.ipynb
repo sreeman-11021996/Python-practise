{
 "cells": [
  {
   "cell_type": "code",
   "execution_count": null,
   "id": "d25f4c46",
   "metadata": {},
   "outputs": [],
   "source": []
  },
  {
   "cell_type": "code",
   "execution_count": 41,
   "id": "491a0354",
   "metadata": {},
   "outputs": [],
   "source": [
    "def binary(num):\n",
    "    bin_a = bin(num)\n",
    "    sum_Max = 0\n",
    "    sum_temp = 0\n",
    "    for i in bin_a:\n",
    "        if i == '0': \n",
    "            if sum_temp > sum_Max:\n",
    "                sum_Max = sum_temp\n",
    "            sum_temp = 0\n",
    "        elif i == '1':\n",
    "            sum_temp+=1\n",
    "    if sum_temp > sum_Max:\n",
    "        sum_Max = sum_temp\n",
    "    print(sum_Max)"
   ]
  },
  {
   "cell_type": "code",
   "execution_count": 42,
   "id": "ea02aa06",
   "metadata": {},
   "outputs": [
    {
     "name": "stdout",
     "output_type": "stream",
     "text": [
      "0b1001111\n",
      "4\n"
     ]
    }
   ],
   "source": [
    "binary(79)"
   ]
  },
  {
   "cell_type": "code",
   "execution_count": null,
   "id": "3bdb5c77",
   "metadata": {},
   "outputs": [],
   "source": []
  }
 ],
 "metadata": {
  "kernelspec": {
   "display_name": "Python 3",
   "language": "python",
   "name": "python3"
  },
  "language_info": {
   "codemirror_mode": {
    "name": "ipython",
    "version": 3
   },
   "file_extension": ".py",
   "mimetype": "text/x-python",
   "name": "python",
   "nbconvert_exporter": "python",
   "pygments_lexer": "ipython3",
   "version": "3.8.8"
  }
 },
 "nbformat": 4,
 "nbformat_minor": 5
}
