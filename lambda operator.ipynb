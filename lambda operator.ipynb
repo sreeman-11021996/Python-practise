{
 "cells": [
  {
   "cell_type": "code",
   "execution_count": 1,
   "id": "916564eb",
   "metadata": {},
   "outputs": [],
   "source": [
    "f = lambda x,y : x+y"
   ]
  },
  {
   "cell_type": "code",
   "execution_count": 2,
   "id": "3221ae15",
   "metadata": {},
   "outputs": [
    {
     "data": {
      "text/plain": [
       "2"
      ]
     },
     "execution_count": 2,
     "metadata": {},
     "output_type": "execute_result"
    }
   ],
   "source": [
    "f(1,1)"
   ]
  },
  {
   "cell_type": "code",
   "execution_count": 3,
   "id": "db186a3c",
   "metadata": {},
   "outputs": [],
   "source": [
    "lst = range(3,100)"
   ]
  },
  {
   "cell_type": "code",
   "execution_count": 4,
   "id": "1582b8e2",
   "metadata": {},
   "outputs": [],
   "source": [
    "#filter function\n",
    "divisible_by_3 = filter(lambda x: x%3 == 0,lst) "
   ]
  },
  {
   "cell_type": "code",
   "execution_count": 6,
   "id": "e6362ad8",
   "metadata": {},
   "outputs": [
    {
     "name": "stdout",
     "output_type": "stream",
     "text": [
      "<filter object at 0x000001D530E86AC0>\n"
     ]
    }
   ],
   "source": [
    "print(divisible_by_3)"
   ]
  },
  {
   "cell_type": "code",
   "execution_count": null,
   "id": "06580b41",
   "metadata": {},
   "outputs": [],
   "source": []
  }
 ],
 "metadata": {
  "kernelspec": {
   "display_name": "Python 3",
   "language": "python",
   "name": "python3"
  },
  "language_info": {
   "codemirror_mode": {
    "name": "ipython",
    "version": 3
   },
   "file_extension": ".py",
   "mimetype": "text/x-python",
   "name": "python",
   "nbconvert_exporter": "python",
   "pygments_lexer": "ipython3",
   "version": "3.8.8"
  }
 },
 "nbformat": 4,
 "nbformat_minor": 5
}
