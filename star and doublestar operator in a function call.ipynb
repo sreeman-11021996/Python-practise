{
 "cells": [
  {
   "cell_type": "code",
   "execution_count": 1,
   "id": "02244b7d",
   "metadata": {},
   "outputs": [],
   "source": [
    "# zip wants a bunch of arguments to zip together, but what you have is\n",
    "# a single argument (a list, whose elements are also lists). \n",
    "# The * in a function call \"unpacks\" a list (or other iterable), \n",
    "# making each of its elements a separate argument. So without the *, \n",
    "# you're doing zip( [[1,2,3],[4,5,6]] ). With the *, \n",
    "# you're doing zip([1,2,3], [4,5,6])"
   ]
  },
  {
   "cell_type": "code",
   "execution_count": 2,
   "id": "52d58a15",
   "metadata": {},
   "outputs": [],
   "source": [
    "p = [[1,2,3],[4,5,6]]"
   ]
  },
  {
   "cell_type": "code",
   "execution_count": 3,
   "id": "fc26a110",
   "metadata": {},
   "outputs": [
    {
     "data": {
      "text/plain": [
       "[([1, 2, 3],), ([4, 5, 6],)]"
      ]
     },
     "execution_count": 3,
     "metadata": {},
     "output_type": "execute_result"
    }
   ],
   "source": [
    "d=zip(p)\n",
    "list(d)"
   ]
  },
  {
   "cell_type": "code",
   "execution_count": 4,
   "id": "ab0c86ae",
   "metadata": {},
   "outputs": [
    {
     "data": {
      "text/plain": [
       "[(1, 4), (2, 5), (3, 6)]"
      ]
     },
     "execution_count": 4,
     "metadata": {},
     "output_type": "execute_result"
    }
   ],
   "source": [
    "d=zip(*p) # transpose\n",
    "list(d)"
   ]
  },
  {
   "cell_type": "code",
   "execution_count": null,
   "id": "38ad7ce0",
   "metadata": {},
   "outputs": [],
   "source": []
  },
  {
   "cell_type": "code",
   "execution_count": null,
   "id": "aee2e490",
   "metadata": {},
   "outputs": [],
   "source": []
  }
 ],
 "metadata": {
  "kernelspec": {
   "display_name": "Python 3",
   "language": "python",
   "name": "python3"
  },
  "language_info": {
   "codemirror_mode": {
    "name": "ipython",
    "version": 3
   },
   "file_extension": ".py",
   "mimetype": "text/x-python",
   "name": "python",
   "nbconvert_exporter": "python",
   "pygments_lexer": "ipython3",
   "version": "3.8.8"
  }
 },
 "nbformat": 4,
 "nbformat_minor": 5
}
