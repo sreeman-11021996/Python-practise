{
 "cells": [
  {
   "cell_type": "code",
   "execution_count": 1,
   "id": "178d976f",
   "metadata": {},
   "outputs": [],
   "source": [
    "def partial(func, /, *args, **keywords):\n",
    "    def newfunc(*fargs, **fkeywords):\n",
    "        newkeywords = {**keywords, **fkeywords}\n",
    "        return func(*args, *fargs, **newkeywords)\n",
    "    newfunc.func = func\n",
    "    newfunc.args = args\n",
    "    newfunc.keywords = keywords\n",
    "    return newfunc"
   ]
  },
  {
   "cell_type": "code",
   "execution_count": 6,
   "id": "df264e08",
   "metadata": {},
   "outputs": [],
   "source": [
    "from functools import partial"
   ]
  },
  {
   "cell_type": "code",
   "execution_count": 7,
   "id": "ae465217",
   "metadata": {},
   "outputs": [],
   "source": [
    "def func (a,b,c,d,e):\n",
    "    print(a,b,c,d,e)"
   ]
  },
  {
   "cell_type": "code",
   "execution_count": 11,
   "id": "2e944dab",
   "metadata": {},
   "outputs": [],
   "source": [
    "f = partial(func,10,d=5)"
   ]
  },
  {
   "cell_type": "code",
   "execution_count": 13,
   "id": "2094ab12",
   "metadata": {},
   "outputs": [
    {
     "name": "stdout",
     "output_type": "stream",
     "text": [
      "10 4 3 5 6\n"
     ]
    }
   ],
   "source": [
    "f(4,c=3,e=6)"
   ]
  },
  {
   "cell_type": "code",
   "execution_count": null,
   "id": "f0f48b27",
   "metadata": {},
   "outputs": [],
   "source": []
  }
 ],
 "metadata": {
  "kernelspec": {
   "display_name": "Python 3",
   "language": "python",
   "name": "python3"
  },
  "language_info": {
   "codemirror_mode": {
    "name": "ipython",
    "version": 3
   },
   "file_extension": ".py",
   "mimetype": "text/x-python",
   "name": "python",
   "nbconvert_exporter": "python",
   "pygments_lexer": "ipython3",
   "version": "3.8.8"
  }
 },
 "nbformat": 4,
 "nbformat_minor": 5
}
