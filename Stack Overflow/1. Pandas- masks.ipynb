{
 "cells": [
  {
   "cell_type": "code",
   "execution_count": 1,
   "id": "92fbe15b",
   "metadata": {},
   "outputs": [],
   "source": [
    "#How to write Pandas dataframe filter condition from parameters in a \n",
    "# function"
   ]
  },
  {
   "cell_type": "code",
   "execution_count": 4,
   "id": "0140353c",
   "metadata": {},
   "outputs": [],
   "source": [
    "import pandas as pd"
   ]
  },
  {
   "cell_type": "code",
   "execution_count": 5,
   "id": "1576f385",
   "metadata": {},
   "outputs": [],
   "source": [
    "raw_data = {'NO_DOC':['A1','B1','C1'],'NO_SEQ':[1,2,3],'DESC':['A','B','C']}"
   ]
  },
  {
   "cell_type": "code",
   "execution_count": 14,
   "id": "cf62840a",
   "metadata": {},
   "outputs": [],
   "source": [
    "data = pd.DataFrame(raw_data)"
   ]
  },
  {
   "cell_type": "code",
   "execution_count": 15,
   "id": "138bd489",
   "metadata": {},
   "outputs": [
    {
     "data": {
      "text/html": [
       "<div>\n",
       "<style scoped>\n",
       "    .dataframe tbody tr th:only-of-type {\n",
       "        vertical-align: middle;\n",
       "    }\n",
       "\n",
       "    .dataframe tbody tr th {\n",
       "        vertical-align: top;\n",
       "    }\n",
       "\n",
       "    .dataframe thead th {\n",
       "        text-align: right;\n",
       "    }\n",
       "</style>\n",
       "<table border=\"1\" class=\"dataframe\">\n",
       "  <thead>\n",
       "    <tr style=\"text-align: right;\">\n",
       "      <th></th>\n",
       "      <th>NO_DOC</th>\n",
       "      <th>NO_SEQ</th>\n",
       "      <th>DESC</th>\n",
       "    </tr>\n",
       "  </thead>\n",
       "  <tbody>\n",
       "    <tr>\n",
       "      <th>0</th>\n",
       "      <td>A1</td>\n",
       "      <td>1</td>\n",
       "      <td>A</td>\n",
       "    </tr>\n",
       "    <tr>\n",
       "      <th>1</th>\n",
       "      <td>B1</td>\n",
       "      <td>2</td>\n",
       "      <td>B</td>\n",
       "    </tr>\n",
       "    <tr>\n",
       "      <th>2</th>\n",
       "      <td>C1</td>\n",
       "      <td>3</td>\n",
       "      <td>C</td>\n",
       "    </tr>\n",
       "  </tbody>\n",
       "</table>\n",
       "</div>"
      ],
      "text/plain": [
       "  NO_DOC  NO_SEQ DESC\n",
       "0     A1       1    A\n",
       "1     B1       2    B\n",
       "2     C1       3    C"
      ]
     },
     "execution_count": 15,
     "metadata": {},
     "output_type": "execute_result"
    }
   ],
   "source": [
    "data"
   ]
  },
  {
   "cell_type": "code",
   "execution_count": 8,
   "id": "b5aa900c",
   "metadata": {},
   "outputs": [],
   "source": [
    "mask1 = data[\"NO_DOC\"] == \"A1\" \n",
    "mask2 = data[\"NO_SEQ\"] == 1"
   ]
  },
  {
   "cell_type": "code",
   "execution_count": 11,
   "id": "6d14f653",
   "metadata": {},
   "outputs": [
    {
     "name": "stdout",
     "output_type": "stream",
     "text": [
      "Int64Index([0], dtype='int64')\n"
     ]
    }
   ],
   "source": [
    "idx = data.index[mask1 & mask2]\n",
    "print(idx)"
   ]
  },
  {
   "cell_type": "code",
   "execution_count": 21,
   "id": "f67df65d",
   "metadata": {},
   "outputs": [],
   "source": [
    "def find(data, mask1,mask2):\n",
    "    return data.index[mask1 & mask2].tolist()"
   ]
  },
  {
   "cell_type": "code",
   "execution_count": 22,
   "id": "09893d7d",
   "metadata": {},
   "outputs": [],
   "source": [
    "columns = [\"NO_DOC\",\"NO_SEQ\"]\n",
    "value = [\"A1\", 1]\n",
    "mask1 = data[columns[0]] == value[0] \n",
    "mask2 = data[columns[1]] == value[1]"
   ]
  },
  {
   "cell_type": "code",
   "execution_count": 23,
   "id": "c26f49b3",
   "metadata": {},
   "outputs": [
    {
     "data": {
      "text/plain": [
       "[0]"
      ]
     },
     "execution_count": 23,
     "metadata": {},
     "output_type": "execute_result"
    }
   ],
   "source": [
    "find(data,mask1,mask2)"
   ]
  },
  {
   "cell_type": "code",
   "execution_count": null,
   "id": "91994348",
   "metadata": {},
   "outputs": [],
   "source": []
  }
 ],
 "metadata": {
  "kernelspec": {
   "display_name": "Python 3",
   "language": "python",
   "name": "python3"
  },
  "language_info": {
   "codemirror_mode": {
    "name": "ipython",
    "version": 3
   },
   "file_extension": ".py",
   "mimetype": "text/x-python",
   "name": "python",
   "nbconvert_exporter": "python",
   "pygments_lexer": "ipython3",
   "version": "3.8.8"
  }
 },
 "nbformat": 4,
 "nbformat_minor": 5
}
