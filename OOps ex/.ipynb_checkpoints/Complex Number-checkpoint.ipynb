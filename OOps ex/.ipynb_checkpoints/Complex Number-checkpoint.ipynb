{
 "cells": [
  {
   "cell_type": "code",
   "execution_count": 1,
   "id": "834384da",
   "metadata": {},
   "outputs": [],
   "source": [
    "import math"
   ]
  },
  {
   "cell_type": "code",
   "execution_count": 4,
   "id": "72b2463b",
   "metadata": {},
   "outputs": [],
   "source": [
    "class Complex(object):\n",
    "    \n",
    "    def __init__(self, real=0, imaginary = 0):\n",
    "        self.real = real\n",
    "        self.imaginary = imaginary\n",
    "    \n",
    "    def __add__(self, no):\n",
    "        n_real = self.real + no.real\n",
    "        n_imaginary = self.imaginary + no.imaginary\n",
    "        n_cm = Complex(n_real,n_imaginary)\n",
    "        return n_cm\n",
    "    \n",
    "    def __sub__(self, no):\n",
    "        n_real = self.real - no.real\n",
    "        n_imaginary = self.imaginary - no.imaginary\n",
    "        n_cm = Complex(n_real,n_imaginary)\n",
    "        return n_cm\n",
    "    \n",
    "    def __mul__(self, no):\n",
    "        n_imaginary = (self.real*no.imaginary) + (self.imaginary*no.real)\n",
    "        n_real = (self.real*no.real) + (-1*(self.imaginary*no.imaginary))\n",
    "        n_cm = Complex(n_real,n_imaginary)\n",
    "        return n_cm\n",
    "    \n",
    "    def __truediv__ (self, no):\n",
    "        den = (no.real**2)+(no.imaginary**2)\n",
    "        n_real = ((self.real*no.real)+(self.imaginary*no.imaginary))/den\n",
    "        n_imaginary = ((self.imaginary*no.real)-(self.real*no.imaginary))/den\n",
    "        n_cm = Complex(n_real,n_imaginary)\n",
    "        return n_cm        \n",
    "    \n",
    "    def mod(self):\n",
    "        n_cm = Complex(math.sqrt(self.real**2+self.imaginary**2))\n",
    "        return  n_cm\n",
    "    \n",
    "    def __str__(self):\n",
    "        res_r = \"%.2f\" % self.real        \n",
    "        if self.imaginary >= 0:\n",
    "            res_im = \" +%.2f i\" % self.imaginary\n",
    "        else:\n",
    "            res_im =  \" %.2f i\" % self.imaginary\n",
    "        \n",
    "        result = res_r + res_im\n",
    "        return result"
   ]
  },
  {
   "cell_type": "code",
   "execution_count": 10,
   "id": "1a04d678",
   "metadata": {},
   "outputs": [
    {
     "name": "stdout",
     "output_type": "stream",
     "text": [
      "2 1\n",
      "<class 'map'>\n",
      "5 6\n",
      "7.00 +7.00 i\n",
      "-3.00 -5.00 i\n",
      "4.00 +17.00 i\n",
      "0.26 -0.11 i\n",
      "2.24 +0.00 i\n",
      "7.81 +0.00 i\n"
     ]
    }
   ],
   "source": [
    "if __name__ == '__main__':\n",
    "    while True:\n",
    "        c = map(float, input().split())\n",
    "        d = map(float, input().split())\n",
    "        try: \n",
    "            x = Complex(*c)\n",
    "            y = Complex(*d)\n",
    "            #print (x,'\\n',y)\n",
    "            print('\\n'.join(map(str, [x+y, x-y, x*y, x/y, x.mod(), y.mod()])))\n",
    "            break\n",
    "        except: \n",
    "            if input(\"Press 'q' to quit\") == 'q':\n",
    "                quit()\n",
    "            else: \n",
    "                print(\"Enter numbers again!\\n\")"
   ]
  },
  {
   "cell_type": "code",
   "execution_count": null,
   "id": "757a28a8",
   "metadata": {},
   "outputs": [],
   "source": []
  },
  {
   "cell_type": "code",
   "execution_count": null,
   "id": "166264e6",
   "metadata": {},
   "outputs": [],
   "source": []
  }
 ],
 "metadata": {
  "kernelspec": {
   "display_name": "Python 3",
   "language": "python",
   "name": "python3"
  },
  "language_info": {
   "codemirror_mode": {
    "name": "ipython",
    "version": 3
   },
   "file_extension": ".py",
   "mimetype": "text/x-python",
   "name": "python",
   "nbconvert_exporter": "python",
   "pygments_lexer": "ipython3",
   "version": "3.8.8"
  }
 },
 "nbformat": 4,
 "nbformat_minor": 5
}
