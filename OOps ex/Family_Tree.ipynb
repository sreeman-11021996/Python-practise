{
 "cells": [
  {
   "cell_type": "code",
   "execution_count": 1,
   "id": "f4e775e3",
   "metadata": {},
   "outputs": [],
   "source": [
    "class TreeNode ():\n",
    "    \n",
    "    def __init__ (self,data):\n",
    "        self.name = data[0]\n",
    "        self.dob = data[1]\n",
    "        self.children = []\n",
    "        self.parent = None\n",
    "    \n",
    "    def __str__ (self):\n",
    "        print(\"Data -> \" , self.name , self.dob)\n",
    "        \"\"\"\n",
    "        if self.children:\n",
    "            print(\"Children -> \", end = \" \")\n",
    "            for child in self.children:\n",
    "                print(child.data,end = \" , \")\n",
    "        if self.parent:\n",
    "            print (\"\\nParent -> \",self.parent.name,self.parent.dob)\n",
    "         \"\"\"   \n",
    "    def get_level(self):\n",
    "        level = 0\n",
    "        p = self.parent\n",
    "        while p:\n",
    "            level += 1\n",
    "            p = p.parent\n",
    "        return level\n",
    "\n",
    "    def print_tree(self):\n",
    "        spaces = ' ' * self.get_level() * 3\n",
    "        prefix = spaces + \"|__\" if self.parent else \"\"\n",
    "        print(prefix + str(self.name) + \" , \" + str(self.dob))\n",
    "        if self.children:\n",
    "            for child in self.children:\n",
    "                child.print_tree()\n",
    "    \n",
    "    def traverse (self,val): # not working\n",
    "        if self.data == val:\n",
    "            temp = self\n",
    "            return temp\n",
    "        if self.children:\n",
    "            for child in self.children:\n",
    "                child.traverse(val)\n",
    "    \n",
    "    def add_child(self, child):\n",
    "        child.parent = self\n",
    "        self.children.append(child)"
   ]
  },
  {
   "cell_type": "code",
   "execution_count": 4,
   "id": "b86cdd86",
   "metadata": {},
   "outputs": [],
   "source": [
    "def create_tree():\n",
    "    parents = list()\n",
    "    root = TreeNode(input(\"Enter family member name & age: \").split())\n",
    "    parents.append(root)\n",
    "    root.print_tree()\n",
    "    flag = 0\n",
    "    while True:\n",
    "        flag = input(\"Enter 1 to quit\")\n",
    "        leng = len(parents)\n",
    "        if (flag == \"1\"):\n",
    "            break\n",
    "        else:\n",
    "            for i in range(leng):\n",
    "                rel = input(\"Enter number of children for \"+parents[i].name+\": \")\n",
    "                for j in range(int(rel)):\n",
    "                    child = TreeNode(input(\"Enter family member name & age: \").split())\n",
    "                    parents[i].add_child(child)\n",
    "                    parents.append(child)\n",
    "                root.print_tree()\n",
    "            for i in range(leng):\n",
    "                parents.remove(parents[0])"
   ]
  },
  {
   "cell_type": "code",
   "execution_count": 5,
   "id": "59d875f0",
   "metadata": {},
   "outputs": [
    {
     "name": "stdout",
     "output_type": "stream",
     "text": [
      "Enter family member name & age: gf 78\n",
      "gf , 78\n",
      "Enter 1 to quit2\n",
      "Enter number of children for gf: 2\n",
      "Enter family member name & age: ram 55\n",
      "Enter family member name & age: sam 45\n",
      "gf , 78\n",
      "   |__ram , 55\n",
      "   |__sam , 45\n",
      "Enter 1 to quit1\n"
     ]
    }
   ],
   "source": [
    "create_tree()"
   ]
  },
  {
   "cell_type": "code",
   "execution_count": null,
   "id": "e58c1723",
   "metadata": {},
   "outputs": [],
   "source": []
  }
 ],
 "metadata": {
  "kernelspec": {
   "display_name": "Python 3",
   "language": "python",
   "name": "python3"
  },
  "language_info": {
   "codemirror_mode": {
    "name": "ipython",
    "version": 3
   },
   "file_extension": ".py",
   "mimetype": "text/x-python",
   "name": "python",
   "nbconvert_exporter": "python",
   "pygments_lexer": "ipython3",
   "version": "3.8.8"
  }
 },
 "nbformat": 4,
 "nbformat_minor": 5
}
