{
 "cells": [
  {
   "cell_type": "code",
   "execution_count": 9,
   "id": "e56c4389",
   "metadata": {},
   "outputs": [],
   "source": [
    "# Decorator for div\n",
    "def smart_div (func):\n",
    "    def inner (a,b):\n",
    "        if a<b :\n",
    "            a,b = b,a\n",
    "        return func(a,b)\n",
    "    return inner"
   ]
  },
  {
   "cell_type": "code",
   "execution_count": 10,
   "id": "534465cc",
   "metadata": {},
   "outputs": [],
   "source": [
    "@smart_div\n",
    "def div (a,b):\n",
    "    return a/b"
   ]
  },
  {
   "cell_type": "code",
   "execution_count": 11,
   "id": "084ccb58",
   "metadata": {},
   "outputs": [],
   "source": [
    "#div = smart_div(div)     #using decorators"
   ]
  },
  {
   "cell_type": "code",
   "execution_count": 12,
   "id": "dc98d776",
   "metadata": {},
   "outputs": [
    {
     "data": {
      "text/plain": [
       "2.0"
      ]
     },
     "execution_count": 12,
     "metadata": {},
     "output_type": "execute_result"
    }
   ],
   "source": [
    "div(2,4)"
   ]
  },
  {
   "cell_type": "code",
   "execution_count": null,
   "id": "02eb96e3",
   "metadata": {},
   "outputs": [],
   "source": []
  },
  {
   "cell_type": "code",
   "execution_count": 1,
   "id": "41290052",
   "metadata": {},
   "outputs": [],
   "source": [
    "import time\n",
    "def time_it(func):\n",
    "    def wrapper(*args, **kwargs):\n",
    "        start = time.time()\n",
    "        result = func(*args,**kwargs)\n",
    "        end = time.time()\n",
    "        print(func.__name__ +\" took \" + str((end-start)*1000) + \"mil sec\")\n",
    "        return result\n",
    "    return wrapper"
   ]
  },
  {
   "cell_type": "code",
   "execution_count": 2,
   "id": "65b4df34",
   "metadata": {},
   "outputs": [],
   "source": [
    "@time_it\n",
    "def calc_square(numbers):\n",
    "    result = []\n",
    "    for number in numbers:\n",
    "        result.append(number*number)\n",
    "    return result"
   ]
  },
  {
   "cell_type": "code",
   "execution_count": 3,
   "id": "790c1593",
   "metadata": {},
   "outputs": [],
   "source": [
    "@time_it\n",
    "def calc_cube(numbers):\n",
    "    result = []\n",
    "    for number in numbers:\n",
    "        result.append(number*number*number)\n",
    "    return result"
   ]
  },
  {
   "cell_type": "code",
   "execution_count": 4,
   "id": "b0cee732",
   "metadata": {},
   "outputs": [
    {
     "name": "stdout",
     "output_type": "stream",
     "text": [
      "calc_square took 21.937131881713867mil sec\n",
      "calc_cube took 40.839195251464844mil sec\n"
     ]
    }
   ],
   "source": [
    "array = range(1,100000)\n",
    "out_square = calc_square(array)\n",
    "out_cube = calc_cube(array)"
   ]
  },
  {
   "cell_type": "code",
   "execution_count": null,
   "id": "bf04a515",
   "metadata": {},
   "outputs": [],
   "source": []
  }
 ],
 "metadata": {
  "kernelspec": {
   "display_name": "Python 3",
   "language": "python",
   "name": "python3"
  },
  "language_info": {
   "codemirror_mode": {
    "name": "ipython",
    "version": 3
   },
   "file_extension": ".py",
   "mimetype": "text/x-python",
   "name": "python",
   "nbconvert_exporter": "python",
   "pygments_lexer": "ipython3",
   "version": "3.8.8"
  }
 },
 "nbformat": 4,
 "nbformat_minor": 5
}
