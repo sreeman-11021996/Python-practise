{
 "cells": [
  {
   "cell_type": "code",
   "execution_count": 6,
   "id": "a89f8109",
   "metadata": {},
   "outputs": [],
   "source": [
    "class Computer:\n",
    "    \n",
    "    def __init__ (self,name,age):\n",
    "        self.name = name\n",
    "        self.age = age\n",
    "    \n",
    "    def config (self):\n",
    "        print(\"15, 16gb, 1Tb\")"
   ]
  },
  {
   "cell_type": "code",
   "execution_count": 8,
   "id": "cc310796",
   "metadata": {},
   "outputs": [],
   "source": [
    "com1 = Computer(\"Srinivaas\",25)"
   ]
  },
  {
   "cell_type": "code",
   "execution_count": 9,
   "id": "ef435a70",
   "metadata": {},
   "outputs": [
    {
     "name": "stdout",
     "output_type": "stream",
     "text": [
      "15, 16gb, 1Tb\n"
     ]
    }
   ],
   "source": [
    "com1.config()"
   ]
  },
  {
   "cell_type": "code",
   "execution_count": 10,
   "id": "f4c56f07",
   "metadata": {},
   "outputs": [
    {
     "name": "stdout",
     "output_type": "stream",
     "text": [
      "15, 16gb, 1Tb\n"
     ]
    }
   ],
   "source": [
    "Computer.config(com1)"
   ]
  },
  {
   "cell_type": "code",
   "execution_count": null,
   "id": "22c5f69b",
   "metadata": {},
   "outputs": [],
   "source": [
    "# Types of Variables in Classes"
   ]
  },
  {
   "cell_type": "code",
   "execution_count": 12,
   "id": "087c7ced",
   "metadata": {},
   "outputs": [],
   "source": [
    "class Car:\n",
    "    wheels = 4   # Class Variables(Static)\n",
    "    \n",
    "    def __init__ (self,model,mil):\n",
    "        self.model = model     # Instance Variables\n",
    "        self.mil = mil"
   ]
  },
  {
   "cell_type": "code",
   "execution_count": 14,
   "id": "ff0ee4d7",
   "metadata": {},
   "outputs": [],
   "source": [
    "c1 = Car(\"BMW\",8)\n",
    "c2 = Car(\"BMW\", 10)"
   ]
  },
  {
   "cell_type": "code",
   "execution_count": 18,
   "id": "f34767c2",
   "metadata": {},
   "outputs": [
    {
     "name": "stdout",
     "output_type": "stream",
     "text": [
      "BMW   8   4\n",
      "BMW   10   4\n"
     ]
    }
   ],
   "source": [
    "print(c1.model,' ',c1.mil,' ',c1.wheels)\n",
    "print(c2.model,' ',c2.mil,' ',c2.wheels)"
   ]
  },
  {
   "cell_type": "code",
   "execution_count": 23,
   "id": "2ac7cdfd",
   "metadata": {},
   "outputs": [],
   "source": [
    "Car.wheels = 5"
   ]
  },
  {
   "cell_type": "code",
   "execution_count": 24,
   "id": "66945bc2",
   "metadata": {},
   "outputs": [
    {
     "name": "stdout",
     "output_type": "stream",
     "text": [
      "BMW   8   5\n",
      "BMW   10   5\n"
     ]
    }
   ],
   "source": [
    "print(c1.model,' ',c1.mil,' ',c1.wheels)\n",
    "print(c2.model,' ',c2.mil,' ',c2.wheels)"
   ]
  },
  {
   "cell_type": "code",
   "execution_count": null,
   "id": "a444c9d5",
   "metadata": {},
   "outputs": [],
   "source": [
    "# Types of methods in Classes"
   ]
  },
  {
   "cell_type": "code",
   "execution_count": 46,
   "id": "df726e62",
   "metadata": {},
   "outputs": [],
   "source": [
    "class Student:\n",
    "    school = \"UOW\"\n",
    "    \n",
    "    def __init__ (self, m1,m2,m3):    # instance method - works on instance variables\n",
    "        self.m1 = m1\n",
    "        self.m2 = m2\n",
    "        self.m3 = m3\n",
    "    @classmethod       # class method decorator\n",
    "    def info(cls):     # class method - it works on class variables\n",
    "        return cls.school\n",
    "    @staticmethod\n",
    "    def info_id ():    # static method - it can be used to perform \n",
    "                       # operations on other class objects\n",
    "        print(\"This is a Student class..... \")"
   ]
  },
  {
   "cell_type": "code",
   "execution_count": 47,
   "id": "a81bf66f",
   "metadata": {},
   "outputs": [],
   "source": [
    "s1 = Student(32,84,75)\n",
    "s2 = Student(79,56,92)"
   ]
  },
  {
   "cell_type": "code",
   "execution_count": 48,
   "id": "bcbbba7f",
   "metadata": {},
   "outputs": [
    {
     "data": {
      "text/plain": [
       "'UOW'"
      ]
     },
     "execution_count": 48,
     "metadata": {},
     "output_type": "execute_result"
    }
   ],
   "source": [
    "Student.info()"
   ]
  },
  {
   "cell_type": "code",
   "execution_count": 49,
   "id": "60f03070",
   "metadata": {},
   "outputs": [
    {
     "name": "stdout",
     "output_type": "stream",
     "text": [
      "This is a Student class..... \n"
     ]
    }
   ],
   "source": [
    "Student.info_id()    # static method call"
   ]
  },
  {
   "cell_type": "code",
   "execution_count": null,
   "id": "7fd6cc05",
   "metadata": {},
   "outputs": [],
   "source": [
    "# Classes inside a Class"
   ]
  },
  {
   "cell_type": "code",
   "execution_count": 53,
   "id": "fbbd9d75",
   "metadata": {},
   "outputs": [],
   "source": [
    "class Student:\n",
    "    \n",
    "    def __init__ (self, name, id):\n",
    "        self.name = name\n",
    "        self.id = id\n",
    "        self.lap = self.Laptop()\n",
    "    \n",
    "    def show (self):\n",
    "        print(\"Name - \",self.name,\"\\nId - \",self.id)\n",
    "        self.lap.show()\n",
    "    class Laptop:     # class in a class\n",
    "        \n",
    "        def __init__ (self,model = \"HP\",ram = 16):\n",
    "            self.model = model\n",
    "            self.ram = ram\n",
    "        \n",
    "        def show (self):\n",
    "            print(\"Model - \",self.model,\"\\nRAM - \",self.ram)"
   ]
  },
  {
   "cell_type": "code",
   "execution_count": 54,
   "id": "d41398e9",
   "metadata": {},
   "outputs": [],
   "source": [
    "s1 = Student(\"Srinivaas\",6643267)"
   ]
  },
  {
   "cell_type": "code",
   "execution_count": 55,
   "id": "0413490e",
   "metadata": {},
   "outputs": [
    {
     "name": "stdout",
     "output_type": "stream",
     "text": [
      "Name -  Srinivaas \n",
      "Id -  6643267\n",
      "Model -  HP \n",
      "RAM -  16\n"
     ]
    }
   ],
   "source": [
    "s1.show()"
   ]
  },
  {
   "cell_type": "code",
   "execution_count": null,
   "id": "135aca0a",
   "metadata": {},
   "outputs": [],
   "source": [
    "# Constructers Inheritence"
   ]
  },
  {
   "cell_type": "code",
   "execution_count": 58,
   "id": "e87a5bf7",
   "metadata": {},
   "outputs": [],
   "source": [
    "# Constructers and Inheritence\n",
    "class A:\n",
    "    def __init__ (self):\n",
    "        print(\"Init A\")\n",
    "\n",
    "class B():\n",
    "    def __init__ (self):\n",
    "        print(\"Init B\")\n",
    "\n",
    "class C(A,B):\n",
    "    def __init__ (self):\n",
    "        super().__init__()    # Metrhod Resolution Order - Left to Right\n",
    "        B.__init__(self)      # We can use the parent class name to call its methods\n",
    "        print(\"Init C\")"
   ]
  },
  {
   "cell_type": "code",
   "execution_count": 59,
   "id": "6d6d209a",
   "metadata": {},
   "outputs": [
    {
     "name": "stdout",
     "output_type": "stream",
     "text": [
      "Init A\n",
      "Init B\n",
      "Init C\n"
     ]
    }
   ],
   "source": [
    "c = C()"
   ]
  },
  {
   "cell_type": "code",
   "execution_count": null,
   "id": "54cbcde5",
   "metadata": {},
   "outputs": [],
   "source": []
  }
 ],
 "metadata": {
  "kernelspec": {
   "display_name": "Python 3",
   "language": "python",
   "name": "python3"
  },
  "language_info": {
   "codemirror_mode": {
    "name": "ipython",
    "version": 3
   },
   "file_extension": ".py",
   "mimetype": "text/x-python",
   "name": "python",
   "nbconvert_exporter": "python",
   "pygments_lexer": "ipython3",
   "version": "3.8.8"
  }
 },
 "nbformat": 4,
 "nbformat_minor": 5
}
