{
 "cells": [
  {
   "cell_type": "code",
   "execution_count": 12,
   "id": "e8e95a5d",
   "metadata": {},
   "outputs": [],
   "source": [
    "import socket\n",
    "s = socket.socket(socket.AF_INET,socket.SOCK_STREAM)"
   ]
  },
  {
   "cell_type": "code",
   "execution_count": 13,
   "id": "d58618d8",
   "metadata": {},
   "outputs": [
    {
     "data": {
      "text/plain": [
       "socket.socket"
      ]
     },
     "execution_count": 13,
     "metadata": {},
     "output_type": "execute_result"
    }
   ],
   "source": [
    "type(s)"
   ]
  },
  {
   "cell_type": "code",
   "execution_count": 5,
   "id": "816a08bb",
   "metadata": {},
   "outputs": [],
   "source": [
    "ipv = socket.AF_INET"
   ]
  },
  {
   "cell_type": "code",
   "execution_count": 6,
   "id": "f47960a3",
   "metadata": {},
   "outputs": [
    {
     "data": {
      "text/plain": [
       "<enum 'AddressFamily'>"
      ]
     },
     "execution_count": 6,
     "metadata": {},
     "output_type": "execute_result"
    }
   ],
   "source": [
    "type(ipv)"
   ]
  },
  {
   "cell_type": "code",
   "execution_count": 7,
   "id": "45ec0828",
   "metadata": {},
   "outputs": [],
   "source": [
    "import math"
   ]
  },
  {
   "cell_type": "code",
   "execution_count": 8,
   "id": "4198423b",
   "metadata": {},
   "outputs": [],
   "source": [
    "sq = math.sqrt(64)"
   ]
  },
  {
   "cell_type": "code",
   "execution_count": 9,
   "id": "32fbb3ee",
   "metadata": {},
   "outputs": [
    {
     "data": {
      "text/plain": [
       "float"
      ]
     },
     "execution_count": 9,
     "metadata": {},
     "output_type": "execute_result"
    }
   ],
   "source": [
    "type(sq)"
   ]
  },
  {
   "cell_type": "code",
   "execution_count": null,
   "id": "73558e6d",
   "metadata": {},
   "outputs": [],
   "source": []
  }
 ],
 "metadata": {
  "kernelspec": {
   "display_name": "Python 3",
   "language": "python",
   "name": "python3"
  },
  "language_info": {
   "codemirror_mode": {
    "name": "ipython",
    "version": 3
   },
   "file_extension": ".py",
   "mimetype": "text/x-python",
   "name": "python",
   "nbconvert_exporter": "python",
   "pygments_lexer": "ipython3",
   "version": "3.8.8"
  }
 },
 "nbformat": 4,
 "nbformat_minor": 5
}
