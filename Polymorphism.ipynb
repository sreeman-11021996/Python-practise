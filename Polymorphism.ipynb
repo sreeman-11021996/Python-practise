{
 "cells": [
  {
   "cell_type": "code",
   "execution_count": 1,
   "id": "d0d08a18",
   "metadata": {},
   "outputs": [],
   "source": [
    "# Duck Typing"
   ]
  },
  {
   "cell_type": "code",
   "execution_count": 10,
   "id": "fba41670",
   "metadata": {},
   "outputs": [
    {
     "name": "stdout",
     "output_type": "stream",
     "text": [
      "Srinivaas\n"
     ]
    }
   ],
   "source": [
    "x = 5\n",
    "x = \"Srinivaas\""
   ]
  },
  {
   "cell_type": "code",
   "execution_count": 9,
   "id": "aa86ffce",
   "metadata": {},
   "outputs": [
    {
     "name": "stdout",
     "output_type": "stream",
     "text": [
      "<class 'str'>\n"
     ]
    }
   ],
   "source": [
    "print(type(x))"
   ]
  },
  {
   "cell_type": "code",
   "execution_count": 30,
   "id": "5b76f144",
   "metadata": {},
   "outputs": [],
   "source": [
    "class Pycharm:\n",
    "    \n",
    "    def execute(self):     # excute method of Pycharm class\n",
    "        print(\"Compiling\")\n",
    "        print(\"Running\")\n",
    "        \n",
    "class MyEditor:\n",
    "    \n",
    "    def execute (self):    # execute method of MyEditor class\n",
    "        print(\"Spell\")\n",
    "        print(\"Convention Check\")\n",
    "        print(\"Compiling\")\n",
    "        print(\"Running\")\n",
    "\n",
    "class Laptop:\n",
    "    \n",
    "    def execute (self,ide):\n",
    "        ide.execute()"
   ]
  },
  {
   "cell_type": "code",
   "execution_count": 31,
   "id": "c7215639",
   "metadata": {},
   "outputs": [],
   "source": [
    "lap1 = Laptop()\n",
    "ide = MyEditor()"
   ]
  },
  {
   "cell_type": "code",
   "execution_count": 32,
   "id": "3d2a6d1f",
   "metadata": {},
   "outputs": [
    {
     "name": "stdout",
     "output_type": "stream",
     "text": [
      "Spell\n",
      "Convention Check\n",
      "Compiling\n",
      "Running\n"
     ]
    }
   ],
   "source": [
    "lap1.execute(ide)"
   ]
  },
  {
   "cell_type": "code",
   "execution_count": 1,
   "id": "63872eb3",
   "metadata": {},
   "outputs": [],
   "source": [
    "# Operator Overloading\n",
    "# for '+' -> __add__ method is called"
   ]
  },
  {
   "cell_type": "code",
   "execution_count": 3,
   "id": "2ba38d71",
   "metadata": {},
   "outputs": [],
   "source": [
    "class student:\n",
    "   \n",
    "    def __init__ (self,m1,m2):\n",
    "        self.m1 = m1\n",
    "        self.m2 = m2\n",
    "    \n",
    "    def __add__ (self,other):\n",
    "        s_m1 = self.m1 + other.m1\n",
    "        s_m2 = self.m2 + other.m2\n",
    "        s3 = student(s_m1,s_m2)\n",
    "        return s3\n",
    "    \n",
    "    def __str__ (self):\n",
    "        return \"Student: \\nSubject1 -> \"+ str(self.m1) + \"\\nSubject2 -> \" + str(self.m2)"
   ]
  },
  {
   "cell_type": "code",
   "execution_count": 4,
   "id": "ca10587c",
   "metadata": {},
   "outputs": [],
   "source": [
    "s1 = student(45,87)"
   ]
  },
  {
   "cell_type": "code",
   "execution_count": 5,
   "id": "839d9da4",
   "metadata": {},
   "outputs": [],
   "source": [
    "s2 = student(78,69)"
   ]
  },
  {
   "cell_type": "code",
   "execution_count": 9,
   "id": "d6bea2a6",
   "metadata": {},
   "outputs": [
    {
     "name": "stdout",
     "output_type": "stream",
     "text": [
      "Student: \n",
      "Subject1 -> 45\n",
      "Subject2 -> 87 \n",
      " Student: \n",
      "Subject1 -> 78\n",
      "Subject2 -> 69\n"
     ]
    }
   ],
   "source": [
    "print(s1,'\\n',s2)"
   ]
  },
  {
   "cell_type": "code",
   "execution_count": 10,
   "id": "3dc228f3",
   "metadata": {},
   "outputs": [],
   "source": [
    "s3 = s1 + s2"
   ]
  },
  {
   "cell_type": "code",
   "execution_count": 11,
   "id": "5584b72e",
   "metadata": {},
   "outputs": [
    {
     "name": "stdout",
     "output_type": "stream",
     "text": [
      "Student: \n",
      "Subject1 -> 123\n",
      "Subject2 -> 156\n"
     ]
    }
   ],
   "source": [
    "print(s3)"
   ]
  },
  {
   "cell_type": "code",
   "execution_count": 12,
   "id": "42be9f19",
   "metadata": {},
   "outputs": [],
   "source": [
    "# Method Overloading:"
   ]
  },
  {
   "cell_type": "code",
   "execution_count": 22,
   "id": "c3ce5f8f",
   "metadata": {},
   "outputs": [],
   "source": [
    "class student:\n",
    "    \n",
    "    def __init__ (self,m1,m2):\n",
    "        self.m1 = m1\n",
    "        self.m2 = m2\n",
    "    @staticmethod\n",
    "    def add (a=None, b=None, c=None):\n",
    "        if a!=None and b!=None and c!=None:\n",
    "            return a+b+c\n",
    "        elif a!=None and b!=None:\n",
    "            return a+b\n",
    "        else:\n",
    "            return a;"
   ]
  },
  {
   "cell_type": "code",
   "execution_count": 23,
   "id": "552e7df7",
   "metadata": {},
   "outputs": [
    {
     "name": "stdout",
     "output_type": "stream",
     "text": [
      "14\n"
     ]
    }
   ],
   "source": [
    "s1 = student(45,78)\n",
    "print(s1.add(5,9))"
   ]
  },
  {
   "cell_type": "code",
   "execution_count": 24,
   "id": "dbb43bcf",
   "metadata": {},
   "outputs": [
    {
     "data": {
      "text/plain": [
       "18"
      ]
     },
     "execution_count": 24,
     "metadata": {},
     "output_type": "execute_result"
    }
   ],
   "source": [
    "s1.add(5,6,7)"
   ]
  },
  {
   "cell_type": "code",
   "execution_count": 26,
   "id": "442c425c",
   "metadata": {},
   "outputs": [
    {
     "name": "stdout",
     "output_type": "stream",
     "text": [
      "None\n"
     ]
    }
   ],
   "source": [
    "print(s1.add())"
   ]
  },
  {
   "cell_type": "code",
   "execution_count": 27,
   "id": "c4d20190",
   "metadata": {},
   "outputs": [],
   "source": [
    "# Method Overrriding"
   ]
  },
  {
   "cell_type": "code",
   "execution_count": 29,
   "id": "fdf2f75f",
   "metadata": {},
   "outputs": [],
   "source": [
    "class A:\n",
    "    def show (self):\n",
    "        print(\"Show in A\")\n",
    "class B(A):\n",
    "    pass"
   ]
  },
  {
   "cell_type": "code",
   "execution_count": 30,
   "id": "8a85fa2f",
   "metadata": {},
   "outputs": [
    {
     "name": "stdout",
     "output_type": "stream",
     "text": [
      "Show in A\n"
     ]
    }
   ],
   "source": [
    "obj = B()\n",
    "obj.show()"
   ]
  },
  {
   "cell_type": "code",
   "execution_count": 31,
   "id": "ced588df",
   "metadata": {},
   "outputs": [],
   "source": [
    "# Now/....\n",
    "class A:\n",
    "    def show (self):\n",
    "        print(\"Show in A\")\n",
    "class B(A):\n",
    "    def show (self):\n",
    "        print(\"Show in B\")"
   ]
  },
  {
   "cell_type": "code",
   "execution_count": 32,
   "id": "71ddfe34",
   "metadata": {},
   "outputs": [
    {
     "name": "stdout",
     "output_type": "stream",
     "text": [
      "Show in B\n"
     ]
    }
   ],
   "source": [
    "obj = B()\n",
    "obj.show()"
   ]
  },
  {
   "cell_type": "code",
   "execution_count": 33,
   "id": "caa90314",
   "metadata": {},
   "outputs": [],
   "source": [
    "# The method on B (Child class) overrides the method in A (Parent class)"
   ]
  },
  {
   "cell_type": "code",
   "execution_count": null,
   "id": "b04027a3",
   "metadata": {},
   "outputs": [],
   "source": []
  },
  {
   "cell_type": "code",
   "execution_count": null,
   "id": "6a1b2f52",
   "metadata": {},
   "outputs": [],
   "source": []
  }
 ],
 "metadata": {
  "kernelspec": {
   "display_name": "Python 3",
   "language": "python",
   "name": "python3"
  },
  "language_info": {
   "codemirror_mode": {
    "name": "ipython",
    "version": 3
   },
   "file_extension": ".py",
   "mimetype": "text/x-python",
   "name": "python",
   "nbconvert_exporter": "python",
   "pygments_lexer": "ipython3",
   "version": "3.8.8"
  }
 },
 "nbformat": 4,
 "nbformat_minor": 5
}
